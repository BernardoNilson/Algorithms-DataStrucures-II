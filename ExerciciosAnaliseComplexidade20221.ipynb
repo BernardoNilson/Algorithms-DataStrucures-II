{
  "nbformat": 4,
  "nbformat_minor": 0,
  "metadata": {
    "colab": {
      "provenance": [],
      "include_colab_link": true
    },
    "kernelspec": {
      "name": "python3",
      "display_name": "Python 3"
    }
  },
  "cells": [
    {
      "cell_type": "markdown",
      "metadata": {
        "id": "view-in-github",
        "colab_type": "text"
      },
      "source": [
        "<a href=\"https://colab.research.google.com/github/BernardoNilson/Algorithms-DataStrucures-II/blob/main/ExerciciosAnaliseComplexidade20221.ipynb\" target=\"_parent\"><img src=\"https://colab.research.google.com/assets/colab-badge.svg\" alt=\"Open In Colab\"/></a>"
      ]
    },
    {
      "cell_type": "markdown",
      "metadata": {
        "id": "gftPpZXAgEC6"
      },
      "source": [
        "# Exercícios - Analisando as Classes de Complexidade de Algoritmos Diversos\n",
        "\n",
        "### Prof. Marcelo Cohen\n",
        "\n",
        "Com base no que já foi apresentado em aula, faça experimentos com cada um dos algoritmos abaixo: conte a quantidade de operações, faça gráficos e tente determinar qual é a função característica de cada um. Este é um excelente exercício para praticar os conceitos que vimos.\n",
        "\n",
        "Ou seja, a ideia aqui **não é** entender o que cada algoritmo faz, mas como se comporta com um **n** cada vez maior.\n",
        "\n",
        "Você pode usar a implementação em Python fornecida (que é mais conveniente, pois permite fazer tudo aqui) ou transcrever para a linguagem da sua preferência."
      ]
    },
    {
      "cell_type": "markdown",
      "metadata": {
        "id": "fRdFidOzhxZ0"
      },
      "source": [
        "## Algoritmo 1"
      ]
    },
    {
      "cell_type": "code",
      "metadata": {
        "id": "9CVupbNsfVy2"
      },
      "source": [
        "def f1(n):\n",
        "  res = 0\n",
        "  for i in range(n-1, n*n+1):    # conta de n-1 até n*n\n",
        "    for j in range(i, n*n+1, i): # conta de i até n*n, de i em i\n",
        "      for k in range(0, n+1, i): # conta de 0 até n, de i em i\n",
        "        res += 1\n",
        "  return res"
      ],
      "execution_count": 5,
      "outputs": []
    },
    {
      "cell_type": "code",
      "metadata": {
        "id": "3RFYy1KEhfW6",
        "colab": {
          "base_uri": "https://localhost:8080/"
        },
        "outputId": "8e00dbf8-18b6-4fdd-f7b9-055bfb1fb9a5"
      },
      "source": [
        "# Programa principal\n",
        "for n in range(2,30):\n",
        "  print(n,f1(n))"
      ],
      "execution_count": 6,
      "outputs": [
        {
          "output_type": "stream",
          "name": "stdout",
          "text": [
            "2 18\n",
            "3 21\n",
            "4 35\n",
            "5 53\n",
            "6 78\n",
            "7 106\n",
            "8 142\n",
            "9 184\n",
            "10 233\n",
            "11 288\n",
            "12 351\n",
            "13 418\n",
            "14 495\n",
            "15 580\n",
            "16 671\n",
            "17 770\n",
            "18 878\n",
            "19 992\n",
            "20 1116\n",
            "21 1246\n",
            "22 1385\n",
            "23 1532\n",
            "24 1692\n",
            "25 1853\n",
            "26 2027\n",
            "27 2208\n",
            "28 2402\n",
            "29 2601\n"
          ]
        }
      ]
    },
    {
      "cell_type": "markdown",
      "metadata": {
        "id": "kC_nPAqGh9eN"
      },
      "source": [
        "Para fazer o gráfico, siga o seguinte modelo (x e y são **listas**, estrutura de dados nativa do Python)."
      ]
    },
    {
      "cell_type": "code",
      "metadata": {
        "id": "wTeEG3bUhjQQ"
      },
      "source": [
        "# Isto só precisa ser feito UMA vez\n",
        "import matplotlib.pyplot as plt # pacote gráfico\n",
        "import math\n",
        "plt.style.use('fivethirtyeight') # estilo dos gráficos"
      ],
      "execution_count": 7,
      "outputs": []
    },
    {
      "cell_type": "code",
      "metadata": {
        "id": "jf2W7F8fiV1S",
        "colab": {
          "base_uri": "https://localhost:8080/",
          "height": 449
        },
        "outputId": "817b6424-8888-4d34-9aee-528b7e7438cd"
      },
      "source": [
        "x = [] # lista vazia: coordenadas x\n",
        "y = [] # lista vazia: coordenadas y\n",
        "for n in range(2,100):\n",
        "  x.append(n)     # acrescenta o valor atual de n no final da lista x\n",
        "  y.append(f1(n)) # acrescenta o valor da função no fina da lista y\n",
        "\n",
        "# Desenha o gráfico com linhas vermelhas\n",
        "# (para usar escala logarítmica, descomente uma ou ambas linhas abaixo)\n",
        "#plt.yscale(\"log\") # usa escala log para y (precisa ser feito a CADA novo gráfico)\n",
        "#plt.xscale(\"log\") # idem, para x\n",
        "plt.plot(x,y,'r-')\n",
        "plt.show()\n"
      ],
      "execution_count": 8,
      "outputs": [
        {
          "output_type": "display_data",
          "data": {
            "text/plain": [
              "<Figure size 640x480 with 1 Axes>"
            ],
            "image/png": "[encoded data removed]"
          },
          "metadata": {}
        }
      ]
    },
    {
      "cell_type": "markdown",
      "metadata": {
        "id": "rvH7ghnWj-me"
      },
      "source": [
        "Lembre-se das **duas técnicas** simples que vimos: ao usar as escalas logarítmicas, conseguimos facilmente identificar o comportamento exponencial ou polinomial. A partir daí, é possível determinar o **expoente** da função, ou o **grau** do polinômio:"
      ]
    },
    {
      "cell_type": "code",
      "metadata": {
        "id": "XZ-srozTk6rL",
        "colab": {
          "base_uri": "https://localhost:8080/"
        },
        "outputId": "1650dfae-a73d-4869-a3c4-d12bfb471098"
      },
      "source": [
        "# Se for exponencial:\n",
        "\n",
        "# Calcula o valor de dois pontos da função\n",
        "a = 2\n",
        "b = 100\n",
        "fa = f1(a)\n",
        "fb = f1(b)\n",
        "print(fa,fb)\n",
        "# Inclinação da reta (r) será aprox. (log(fb)-log(fa))/(b-a)\n",
        "r = (math.log(fb) - math.log(fa))/ (b-a)\n",
        "# E o expoente é exp(r)\n",
        "base = math.exp(r)\n",
        "print(\"Base aproximada da função exponencial:\", base)"
      ],
      "execution_count": 9,
      "outputs": [
        {
          "output_type": "stream",
          "name": "stdout",
          "text": [
            "18 42236\n",
            "Base aproximada da função exponencial: 1.0824103631165825\n"
          ]
        }
      ]
    },
    {
      "cell_type": "markdown",
      "metadata": {
        "id": "Lg51fDQW06b3"
      },
      "source": [
        "$r \\approx \\frac{\\log(f(b))-\\log(f(a))}{b-a}, base = e^{r}$"
      ]
    },
    {
      "cell_type": "code",
      "metadata": {
        "id": "8U2za5cpl0YH",
        "colab": {
          "base_uri": "https://localhost:8080/"
        },
        "outputId": "ef65429b-5571-4574-baa1-5cfdc3d025e1"
      },
      "source": [
        "# Se for polinomial:\n",
        "\n",
        "# Calcula o valor de dois pontos da função\n",
        "a = 2\n",
        "b = 100\n",
        "fa = f1(a)\n",
        "fb = f1(b)\n",
        "expoente = (math.log(fb)-math.log(fa))/(math.log(b)-math.log(a))\n",
        "print(\"Expoente aproximado da função polinomial:\", expoente)"
      ],
      "execution_count": 10,
      "outputs": [
        {
          "output_type": "stream",
          "name": "stdout",
          "text": [
            "Expoente aproximado da função polinomial: 1.983796222123925\n"
          ]
        }
      ]
    },
    {
      "cell_type": "markdown",
      "metadata": {
        "id": "b-EfMhnG1YsJ"
      },
      "source": [
        "$expoente \\approx \\frac{\\log(f(b)) - \\log(f(a))}{\\log(b)-\\log(a)}$"
      ]
    },
    {
      "cell_type": "markdown",
      "metadata": {
        "id": "Z0CSfuzloZvE"
      },
      "source": [
        "## Algoritmo 2"
      ]
    },
    {
      "cell_type": "code",
      "metadata": {
        "id": "aLumW6DSodKj"
      },
      "source": [
        "def f2(n):\n",
        "  res = 0\n",
        "  for i in range(n//2, n+2, 2):     # de n/2 até n+1, de 2 em 2\n",
        "    for j in range(n//2, n*n+1, i): # de n/2 até n*n, de i em i\n",
        "      for k in range(j, j+2):       # de j até j+1\n",
        "        res += 1\n",
        "  return res"
      ],
      "execution_count": 11,
      "outputs": []
    },
    {
      "cell_type": "code",
      "metadata": {
        "id": "0doCjKUcpYlJ",
        "colab": {
          "base_uri": "https://localhost:8080/"
        },
        "outputId": "ac2b909d-681b-4498-b5ac-4b026ff142d7"
      },
      "source": [
        "# Programa principal\n",
        "for n in range(2,10):\n",
        "  print(n,f2(n))"
      ],
      "execution_count": 12,
      "outputs": [
        {
          "output_type": "stream",
          "name": "stdout",
          "text": [
            "2 12\n",
            "3 24\n",
            "4 24\n",
            "5 44\n",
            "6 48\n",
            "7 66\n",
            "8 70\n",
            "9 102\n"
          ]
        }
      ]
    },
    {
      "cell_type": "code",
      "metadata": {
        "id": "UAhh7DJ1pqvo"
      },
      "source": [
        "# Continuação..."
      ],
      "execution_count": 13,
      "outputs": []
    },
    {
      "cell_type": "markdown",
      "metadata": {
        "id": "wvX2WZXAp2Xs"
      },
      "source": [
        "## Algoritmo 3"
      ]
    },
    {
      "cell_type": "markdown",
      "source": [],
      "metadata": {
        "id": "9qhRgiSNA_tp"
      }
    },
    {
      "cell_type": "code",
      "metadata": {
        "id": "7BlTG9QBp4xc"
      },
      "source": [
        "def f3(n):\n",
        "  res = 0\n",
        "  for i in range(n//2,2*n+1):       # de n/2 até 2*n\n",
        "    for j in range(n//2,n+i+1,i):   # de n/2 até n+i, passo i\n",
        "      for k in range(2,i*i+1, i-1): # de 2 até i*i, passo i-1\n",
        "        res += 1\n",
        "  return res\n",
        "\n",
        "# Dica: comece com n=4"
      ],
      "execution_count": 14,
      "outputs": []
    },
    {
      "cell_type": "code",
      "metadata": {
        "id": "qjbZF-TEqXJq"
      },
      "source": [
        "# Programa principal"
      ],
      "execution_count": 15,
      "outputs": []
    },
    {
      "cell_type": "markdown",
      "metadata": {
        "id": "ud5Arw9TqvCj"
      },
      "source": [
        "## Algoritmo 4"
      ]
    },
    {
      "cell_type": "markdown",
      "source": [],
      "metadata": {
        "id": "kDC-jW9FBnI0"
      }
    },
    {
      "cell_type": "code",
      "metadata": {
        "id": "nW5pFFaCqxdS"
      },
      "source": [
        "def f4(n):\n",
        "  res = 0\n",
        "  for i in range(0,n+2,2):      # 0 a n+1, passo 2\n",
        "    for j in range(i,n+1,2):    # i a n, passo 2\n",
        "      for k in range(i//2,j+2): # i/2 a j+1\n",
        "        res += 1\n",
        "  return res"
      ],
      "execution_count": 16,
      "outputs": []
    },
    {
      "cell_type": "code",
      "metadata": {
        "id": "DsqrrKECsNTf"
      },
      "source": [
        "# Programa principal"
      ],
      "execution_count": 17,
      "outputs": []
    },
    {
      "cell_type": "markdown",
      "metadata": {
        "id": "fXYDSQK9sVBF"
      },
      "source": [
        "## Algoritmo 5"
      ]
    },
    {
      "cell_type": "code",
      "metadata": {
        "id": "_n2GbiH6shr5"
      },
      "source": [
        "def f5(n,d):\n",
        "  if n < 0:\n",
        "    return d\n",
        "  return f5(n-1,1-d) + f5(n-2,d)\n",
        "\n",
        "# Chame com f5(n,1)"
      ],
      "execution_count": 18,
      "outputs": []
    },
    {
      "cell_type": "markdown",
      "metadata": {
        "id": "vTGhy8tos50e"
      },
      "source": [
        "## Algoritmo 6"
      ]
    },
    {
      "cell_type": "code",
      "metadata": {
        "id": "GR1aP6ncs7pY"
      },
      "source": [
        "def f6(n,d):\n",
        "  global op\n",
        "  op += 1\n",
        "  if n == 0:\n",
        "    return d\n",
        "  return 3 * f6(n-1,1-d)\n",
        "\n",
        "# Chame com f6(n,1), o total de operações volta na variável\n",
        "# op (lembre-se de ZERAR a varíavel antes de cada chamada)"
      ],
      "execution_count": 19,
      "outputs": []
    },
    {
      "cell_type": "markdown",
      "metadata": {
        "id": "29rb5m1xwpMp"
      },
      "source": [
        "## Algoritmo 7"
      ]
    },
    {
      "cell_type": "code",
      "metadata": {
        "id": "x1eGsAi8wrFV"
      },
      "source": [
        "def f7(n):\n",
        "  res = 0\n",
        "  s = int(math.sqrt(n))\n",
        "  for i in range(1,n+1):      # 1 a n\n",
        "    for j in range(1,s+1):    # 1 a sqrt(n)\n",
        "      for k in range(1,i+1):  # 1 a i\n",
        "        res += 1\n",
        "  return res"
      ],
      "execution_count": 20,
      "outputs": []
    },
    {
      "cell_type": "markdown",
      "metadata": {
        "id": "1S04ErDy_el6"
      },
      "source": [
        "## Algoritmo 8"
      ]
    },
    {
      "cell_type": "code",
      "metadata": {
        "id": "jgFDktv__lvn"
      },
      "source": [
        "def f8(n):\n",
        "  res = 0\n",
        "  for i in range(1,n+1):      # de 1 a n\n",
        "    for j in range(i, 2*i+1): # de i a 2*i\n",
        "      for k in range(i,j+1):  # de i a j\n",
        "        res += 1\n",
        "  return res"
      ],
      "execution_count": 21,
      "outputs": []
    },
    {
      "cell_type": "markdown",
      "metadata": {
        "id": "446VgLJ6_piX"
      },
      "source": [
        "## Algoritmo 9"
      ]
    },
    {
      "cell_type": "code",
      "metadata": {
        "id": "uPH-fCL0_rm2"
      },
      "source": [
        "def f9(n):\n",
        "  res = 0\n",
        "  for i in range(1,n+1):     # de 1 a n.\n",
        "    for j in range(i,i+4):   # de i a i+3\n",
        "      for k in range(i,j+1): # de i a j\n",
        "        res += 1\n",
        "  return res"
      ],
      "execution_count": 22,
      "outputs": []
    },
    {
      "cell_type": "code",
      "source": [],
      "metadata": {
        "id": "toBNd7uSmRm-"
      },
      "execution_count": 22,
      "outputs": []
    }
  ]
}