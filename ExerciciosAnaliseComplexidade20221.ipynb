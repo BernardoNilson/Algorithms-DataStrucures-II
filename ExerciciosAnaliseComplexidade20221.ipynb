{
  "nbformat": 4,
  "nbformat_minor": 0,
  "metadata": {
    "colab": {
      "provenance": [],
      "include_colab_link": true
    },
    "kernelspec": {
      "name": "python3",
      "display_name": "Python 3"
    }
  },
  "cells": [
    {
      "cell_type": "markdown",
      "metadata": {
        "id": "view-in-github",
        "colab_type": "text"
      },
      "source": [
        "<a href=\"https://colab.research.google.com/github/BernardoNilson/Algorithms-DataStrucures-II/blob/main/ExerciciosAnaliseComplexidade20221.ipynb\" target=\"_parent\"><img src=\"https://colab.research.google.com/assets/colab-badge.svg\" alt=\"Open In Colab\"/></a>"
      ]
    },
    {
      "cell_type": "markdown",
      "metadata": {
        "id": "gftPpZXAgEC6"
      },
      "source": [
        "# Exercícios - Analisando as Classes de Complexidade de Algoritmos Diversos\n",
        "\n",
        "### Prof. Marcelo Cohen\n",
        "\n",
        "Com base no que já foi apresentado em aula, faça experimentos com cada um dos algoritmos abaixo: conte a quantidade de operações, faça gráficos e tente determinar qual é a função característica de cada um. Este é um excelente exercício para praticar os conceitos que vimos.\n",
        "\n",
        "Ou seja, a ideia aqui **não é** entender o que cada algoritmo faz, mas como se comporta com um **n** cada vez maior.\n",
        "\n",
        "Você pode usar a implementação em Python fornecida (que é mais conveniente, pois permite fazer tudo aqui) ou transcrever para a linguagem da sua preferência."
      ]
    },
    {
      "cell_type": "markdown",
      "metadata": {
        "id": "fRdFidOzhxZ0"
      },
      "source": [
        "## Algoritmo 1"
      ]
    },
    {
      "cell_type": "code",
      "metadata": {
        "id": "9CVupbNsfVy2"
      },
      "source": [
        "def f1(n):\n",
        "  res = 0\n",
        "  for i in range(n-1, n*n+1):    # conta de n-1 até n*n\n",
        "    for j in range(i, n*n+1, i): # conta de i até n*n, de i em i\n",
        "      for k in range(0, n+1, i): # conta de 0 até n, de i em i\n",
        "        res += 1\n",
        "  return res"
      ],
      "execution_count": 5,
      "outputs": []
    },
    {
      "cell_type": "code",
      "metadata": {
        "id": "3RFYy1KEhfW6",
        "colab": {
          "base_uri": "https://localhost:8080/"
        },
        "outputId": "8e00dbf8-18b6-4fdd-f7b9-055bfb1fb9a5"
      },
      "source": [
        "# Programa principal\n",
        "for n in range(2,30):\n",
        "  print(n,f1(n))"
      ],
      "execution_count": 6,
      "outputs": [
        {
          "output_type": "stream",
          "name": "stdout",
          "text": [
            "2 18\n",
            "3 21\n",
            "4 35\n",
            "5 53\n",
            "6 78\n",
            "7 106\n",
            "8 142\n",
            "9 184\n",
            "10 233\n",
            "11 288\n",
            "12 351\n",
            "13 418\n",
            "14 495\n",
            "15 580\n",
            "16 671\n",
            "17 770\n",
            "18 878\n",
            "19 992\n",
            "20 1116\n",
            "21 1246\n",
            "22 1385\n",
            "23 1532\n",
            "24 1692\n",
            "25 1853\n",
            "26 2027\n",
            "27 2208\n",
            "28 2402\n",
            "29 2601\n"
          ]
        }
      ]
    },
    {
      "cell_type": "markdown",
      "metadata": {
        "id": "kC_nPAqGh9eN"
      },
      "source": [
        "Para fazer o gráfico, siga o seguinte modelo (x e y são **listas**, estrutura de dados nativa do Python)."
      ]
    },
    {
      "cell_type": "code",
      "metadata": {
        "id": "wTeEG3bUhjQQ"
      },
      "source": [
        "# Isto só precisa ser feito UMA vez\n",
        "import matplotlib.pyplot as plt # pacote gráfico\n",
        "import math\n",
        "plt.style.use('fivethirtyeight') # estilo dos gráficos"
      ],
      "execution_count": 7,
      "outputs": []
    },
    {
      "cell_type": "code",
      "metadata": {
        "id": "jf2W7F8fiV1S",
        "colab": {
          "base_uri": "https://localhost:8080/",
          "height": 449
        },
        "outputId": "817b6424-8888-4d34-9aee-528b7e7438cd"
      },
      "source": [
        "x = [] # lista vazia: coordenadas x\n",
        "y = [] # lista vazia: coordenadas y\n",
        "for n in range(2,100):\n",
        "  x.append(n)     # acrescenta o valor atual de n no final da lista x\n",
        "  y.append(f1(n)) # acrescenta o valor da função no fina da lista y\n",
        "\n",
        "# Desenha o gráfico com linhas vermelhas\n",
        "# (para usar escala logarítmica, descomente uma ou ambas linhas abaixo)\n",
        "#plt.yscale(\"log\") # usa escala log para y (precisa ser feito a CADA novo gráfico)\n",
        "#plt.xscale(\"log\") # idem, para x\n",
        "plt.plot(x,y,'r-')\n",
        "plt.show()\n"
      ],
      "execution_count": 8,
      "outputs": [
        {
          "output_type": "display_data",
          "data": {
            "text/plain": [
              "<Figure size 640x480 with 1 Axes>"
            ],
            "image/png": "[encoded data removed]"
          },
          "metadata": {}
        }
      ]
    },
    {
      "cell_type": "markdown",
      "metadata": {
        "id": "rvH7ghnWj-me"
      },
      "source": [
        "Lembre-se das **duas técnicas** simples que vimos: ao usar as escalas logarítmicas, conseguimos facilmente identificar o comportamento exponencial ou polinomial. A partir daí, é possível determinar o **expoente** da função, ou o **grau** do polinômio:"
      ]
    },
    {
      "cell_type": "code",
      "metadata": {
        "id": "XZ-srozTk6rL",
        "colab": {
          "base_uri": "https://localhost:8080/"
        },
        "outputId": "1650dfae-a73d-4869-a3c4-d12bfb471098"
      },
      "source": [
        "# Se for exponencial:\n",
        "\n",
        "# Calcula o valor de dois pontos da função\n",
        "a = 2\n",
        "b = 100\n",
        "fa = f1(a)\n",
        "fb = f1(b)\n",
        "print(fa,fb)\n",
        "# Inclinação da reta (r) será aprox. (log(fb)-log(fa))/(b-a)\n",
        "r = (math.log(fb) - math.log(fa))/ (b-a)\n",
        "# E o expoente é exp(r)\n",
        "base = math.exp(r)\n",
        "print(\"Base aproximada da função exponencial:\", base)"
      ],
      "execution_count": 9,
      "outputs": [
        {
          "output_type": "stream",
          "name": "stdout",
          "text": [
            "18 42236\n",
            "Base aproximada da função exponencial: 1.0824103631165825\n"
          ]
        }
      ]
    },
    {
      "cell_type": "markdown",
      "metadata": {
        "id": "Lg51fDQW06b3"
      },
      "source": [
        "$r \\approx \\frac{\\log(f(b))-\\log(f(a))}{b-a}, base = e^{r}$"
      ]
    },
    {
      "cell_type": "code",
      "metadata": {
        "id": "8U2za5cpl0YH",
        "colab": {
          "base_uri": "https://localhost:8080/"
        },
        "outputId": "ef65429b-5571-4574-baa1-5cfdc3d025e1"
      },
      "source": [
        "# Se for polinomial:\n",
        "\n",
        "# Calcula o valor de dois pontos da função\n",
        "a = 2\n",
        "b = 100\n",
        "fa = f1(a)\n",
        "fb = f1(b)\n",
        "expoente = (math.log(fb)-math.log(fa))/(math.log(b)-math.log(a))\n",
        "print(\"Expoente aproximado da função polinomial:\", expoente)"
      ],
      "execution_count": 10,
      "outputs": [
        {
          "output_type": "stream",
          "name": "stdout",
          "text": [
            "Expoente aproximado da função polinomial: 1.983796222123925\n"
          ]
        }
      ]
    },
    {
      "cell_type": "markdown",
      "metadata": {
        "id": "b-EfMhnG1YsJ"
      },
      "source": [
        "$expoente \\approx \\frac{\\log(f(b)) - \\log(f(a))}{\\log(b)-\\log(a)}$"
      ]
    },
    {
      "cell_type": "markdown",
      "metadata": {
        "id": "Z0CSfuzloZvE"
      },
      "source": [
        "## Algoritmo 2"
      ]
    },
    {
      "cell_type": "code",
      "metadata": {
        "id": "aLumW6DSodKj"
      },
      "source": [
        "def f2(n):\n",
        "  res = 0\n",
        "  for i in range(n//2, n+2, 2):     # de n/2 até n+1, de 2 em 2\n",
        "    for j in range(n//2, n*n+1, i): # de n/2 até n*n, de i em i\n",
        "      for k in range(j, j+2):       # de j até j+1\n",
        "        res += 1\n",
        "  return res"
      ],
      "execution_count": 11,
      "outputs": []
    },
    {
      "cell_type": "code",
      "metadata": {
        "id": "0doCjKUcpYlJ",
        "colab": {
          "base_uri": "https://localhost:8080/"
        },
        "outputId": "ac2b909d-681b-4498-b5ac-4b026ff142d7"
      },
      "source": [
        "# Programa principal\n",
        "for n in range(2,10):\n",
        "  print(n,f2(n))"
      ],
      "execution_count": 12,
      "outputs": [
        {
          "output_type": "stream",
          "name": "stdout",
          "text": [
            "2 12\n",
            "3 24\n",
            "4 24\n",
            "5 44\n",
            "6 48\n",
            "7 66\n",
            "8 70\n",
            "9 102\n"
          ]
        }
      ]
    },
    {
      "cell_type": "code",
      "metadata": {
        "id": "UAhh7DJ1pqvo"
      },
      "source": [
        "# Continuação..."
      ],
      "execution_count": 13,
      "outputs": []
    },
    {
      "cell_type": "markdown",
      "metadata": {
        "id": "eRiayf4Fc_qE"
      },
      "source": [
        "Para fazer o gráfico, siga o seguinte modelo (x e y são **listas**, estrutura de dados nativa do Python)."
      ]
    },
    {
      "cell_type": "code",
      "metadata": {
        "colab": {
          "base_uri": "https://localhost:8080/",
          "height": 452
        },
        "outputId": "a16e7065-f4a6-4256-983d-b764b96c27b3",
        "id": "9pcYo4lEc_qL"
      },
      "source": [
        "x = [] # lista vazia: coordenadas x\n",
        "y = [] # lista vazia: coordenadas y\n",
        "for n in range(2,100):\n",
        "  x.append(n)     # acrescenta o valor atual de n no final da lista x\n",
        "  y.append(f2(n)) # acrescenta o valor da função no fina da lista y\n",
        "\n",
        "# Desenha o gráfico com linhas vermelhas\n",
        "# (para usar escala logarítmica, descomente uma ou ambas linhas abaixo)\n",
        "plt.yscale(\"log\") # usa escala log para y (precisa ser feito a CADA novo gráfico)\n",
        "plt.xscale(\"log\") # idem, para x\n",
        "plt.plot(x,y,'r-')\n",
        "plt.show()\n"
      ],
      "execution_count": 24,
      "outputs": [
        {
          "output_type": "display_data",
          "data": {
            "text/plain": [
              "<Figure size 640x480 with 1 Axes>"
            ],
            "image/png": "[encoded data removed]"
          },
          "metadata": {}
        }
      ]
    },
    {
      "cell_type": "markdown",
      "metadata": {
        "id": "OdXJ67qVc_qM"
      },
      "source": [
        "Lembre-se das **duas técnicas** simples que vimos: ao usar as escalas logarítmicas, conseguimos facilmente identificar o comportamento exponencial ou polinomial. A partir daí, é possível determinar o **expoente** da função, ou o **grau** do polinômio:"
      ]
    },
    {
      "cell_type": "code",
      "metadata": {
        "colab": {
          "base_uri": "https://localhost:8080/"
        },
        "outputId": "adbf7c8f-5f6e-42d4-e29f-0dd1a62e0b4e",
        "id": "4XviIh84c_qP"
      },
      "source": [
        "# Se for polinomial:\n",
        "\n",
        "# Calcula o valor de dois pontos da função\n",
        "a = 2\n",
        "b = 100\n",
        "fa = f2(a)\n",
        "fb = f2(b)\n",
        "expoente = (math.log(fb)-math.log(fa))/(math.log(b)-math.log(a))\n",
        "print(\"Expoente aproximado da função polinomial:\", expoente)"
      ],
      "execution_count": 39,
      "outputs": [
        {
          "output_type": "stream",
          "name": "stdout",
          "text": [
            "Expoente aproximado da função polinomial: 1.6360480080071391\n"
          ]
        }
      ]
    },
    {
      "cell_type": "markdown",
      "metadata": {
        "id": "tu04xH1Uc_qR"
      },
      "source": [
        "$expoente \\approx \\frac{\\log(f(b)) - \\log(f(a))}{\\log(b)-\\log(a)}$"
      ]
    },
    {
      "cell_type": "markdown",
      "metadata": {
        "id": "wvX2WZXAp2Xs"
      },
      "source": [
        "## Algoritmo 3"
      ]
    },
    {
      "cell_type": "markdown",
      "source": [],
      "metadata": {
        "id": "9qhRgiSNA_tp"
      }
    },
    {
      "cell_type": "code",
      "metadata": {
        "id": "7BlTG9QBp4xc"
      },
      "source": [
        "def f3(n):\n",
        "  res = 0\n",
        "  for i in range(n//2,2*n+1):       # de n/2 até 2*n\n",
        "    for j in range(n//2,n+i+1,i):   # de n/2 até n+i, passo i\n",
        "      for k in range(2,i*i+1, i-1): # de 2 até i*i, passo i-1\n",
        "        res += 1\n",
        "  return res\n",
        "\n",
        "# Dica: comece com n=4"
      ],
      "execution_count": 30,
      "outputs": []
    },
    {
      "cell_type": "code",
      "metadata": {
        "id": "qjbZF-TEqXJq",
        "colab": {
          "base_uri": "https://localhost:8080/"
        },
        "outputId": "35e7777e-6671-4eda-d64f-9f374726d2b2"
      },
      "source": [
        "# Programa principal\n",
        "for n in range(4,10):\n",
        "  print(n, f3(n))"
      ],
      "execution_count": 33,
      "outputs": [
        {
          "output_type": "stream",
          "name": "stdout",
          "text": [
            "4 87\n",
            "5 133\n",
            "6 174\n",
            "7 237\n",
            "8 291\n",
            "9 371\n"
          ]
        }
      ]
    },
    {
      "cell_type": "markdown",
      "metadata": {
        "id": "yBIa4va_dGUm"
      },
      "source": [
        "Para fazer o gráfico, siga o seguinte modelo (x e y são **listas**, estrutura de dados nativa do Python)."
      ]
    },
    {
      "cell_type": "code",
      "metadata": {
        "colab": {
          "base_uri": "https://localhost:8080/",
          "height": 452
        },
        "outputId": "828bc835-db2d-416c-9eff-86a64946a612",
        "id": "XszVvKncdGUt"
      },
      "source": [
        "x = [] # lista vazia: coordenadas x\n",
        "y = [] # lista vazia: coordenadas y\n",
        "for n in range(4,100):\n",
        "  x.append(n)     # acrescenta o valor atual de n no final da lista x\n",
        "  y.append(f3(n)) # acrescenta o valor da função no final da lista y\n",
        "\n",
        "# Desenha o gráfico com linhas vermelhas\n",
        "# (para usar escala logarítmica, descomente uma ou ambas linhas abaixo)\n",
        "plt.yscale(\"log\") # usa escala log para y (precisa ser feito a CADA novo gráfico)\n",
        "plt.xscale(\"log\") # idem, para x\n",
        "plt.plot(x,y,'r-')\n",
        "plt.show()\n"
      ],
      "execution_count": 35,
      "outputs": [
        {
          "output_type": "display_data",
          "data": {
            "text/plain": [
              "<Figure size 640x480 with 1 Axes>"
            ],
            "image/png": "[encoded data removed]"
          },
          "metadata": {}
        }
      ]
    },
    {
      "cell_type": "markdown",
      "metadata": {
        "id": "NuPrHqCTdGUw"
      },
      "source": [
        "Lembre-se das **duas técnicas** simples que vimos: ao usar as escalas logarítmicas, conseguimos facilmente identificar o comportamento exponencial ou polinomial. A partir daí, é possível determinar o **expoente** da função, ou o **grau** do polinômio:"
      ]
    },
    {
      "cell_type": "code",
      "metadata": {
        "colab": {
          "base_uri": "https://localhost:8080/"
        },
        "outputId": "8fe9e9be-721d-40f7-999f-7823fd04106d",
        "id": "OHiaJn_7dGUy"
      },
      "source": [
        "# Se for polinomial:\n",
        "\n",
        "# Calcula o valor de dois pontos da função\n",
        "a = 4\n",
        "b = 100\n",
        "fa = f3(a)\n",
        "fb = f3(b)\n",
        "expoente = (math.log(fb)-math.log(fa))/(math.log(b)-math.log(a))\n",
        "print(\"Expoente aproximado da função polinomial:\", expoente)"
      ],
      "execution_count": 38,
      "outputs": [
        {
          "output_type": "stream",
          "name": "stdout",
          "text": [
            "Expoente aproximado da função polinomial: 1.8895230852115528\n"
          ]
        }
      ]
    },
    {
      "cell_type": "markdown",
      "metadata": {
        "id": "GLVobBdhdGUz"
      },
      "source": [
        "$expoente \\approx \\frac{\\log(f(b)) - \\log(f(a))}{\\log(b)-\\log(a)}$"
      ]
    },
    {
      "cell_type": "markdown",
      "metadata": {
        "id": "ud5Arw9TqvCj"
      },
      "source": [
        "## Algoritmo 4"
      ]
    },
    {
      "cell_type": "markdown",
      "source": [],
      "metadata": {
        "id": "kDC-jW9FBnI0"
      }
    },
    {
      "cell_type": "code",
      "metadata": {
        "id": "nW5pFFaCqxdS"
      },
      "source": [
        "def f4(n):\n",
        "  res = 0\n",
        "  for i in range(0,n+2,2):      # 0 a n+1, passo 2\n",
        "    for j in range(i,n+1,2):    # i a n, passo 2\n",
        "      for k in range(i//2,j+2): # i/2 a j+1\n",
        "        res += 1\n",
        "  return res"
      ],
      "execution_count": 16,
      "outputs": []
    },
    {
      "cell_type": "code",
      "metadata": {
        "id": "DsqrrKECsNTf",
        "colab": {
          "base_uri": "https://localhost:8080/"
        },
        "outputId": "94acbbf7-13b3-40dc-cdec-15ac0dfd746f"
      },
      "source": [
        "# Programa principal\n",
        "for n in range(4,50):\n",
        "  print(n, f4(n))"
      ],
      "execution_count": 47,
      "outputs": [
        {
          "output_type": "stream",
          "name": "stdout",
          "text": [
            "4 24\n",
            "5 24\n",
            "6 50\n",
            "7 50\n",
            "8 90\n",
            "9 90\n",
            "10 147\n",
            "11 147\n",
            "12 224\n",
            "13 224\n",
            "14 324\n",
            "15 324\n",
            "16 450\n",
            "17 450\n",
            "18 605\n",
            "19 605\n",
            "20 792\n",
            "21 792\n",
            "22 1014\n",
            "23 1014\n",
            "24 1274\n",
            "25 1274\n",
            "26 1575\n",
            "27 1575\n",
            "28 1920\n",
            "29 1920\n",
            "30 2312\n",
            "31 2312\n",
            "32 2754\n",
            "33 2754\n",
            "34 3249\n",
            "35 3249\n",
            "36 3800\n",
            "37 3800\n",
            "38 4410\n",
            "39 4410\n",
            "40 5082\n",
            "41 5082\n",
            "42 5819\n",
            "43 5819\n",
            "44 6624\n",
            "45 6624\n",
            "46 7500\n",
            "47 7500\n",
            "48 8450\n",
            "49 8450\n"
          ]
        }
      ]
    },
    {
      "cell_type": "markdown",
      "metadata": {
        "id": "nRO0csQHdIdK"
      },
      "source": [
        "Para fazer o gráfico, siga o seguinte modelo (x e y são **listas**, estrutura de dados nativa do Python)."
      ]
    },
    {
      "cell_type": "code",
      "metadata": {
        "colab": {
          "base_uri": "https://localhost:8080/",
          "height": 460
        },
        "outputId": "179693a4-3614-42c1-9819-982c3bcfce95",
        "id": "La-I_uCSdIdR"
      },
      "source": [
        "x = [] # lista vazia: coordenadas x\n",
        "y = [] # lista vazia: coordenadas y\n",
        "for n in range(2,100):\n",
        "  x.append(n)     # acrescenta o valor atual de n no final da lista x\n",
        "  y.append(f4(n)) # acrescenta o valor da função no fina da lista y\n",
        "\n",
        "# Desenha o gráfico com linhas vermelhas\n",
        "# (para usar escala logarítmica, descomente uma ou ambas linhas abaixo)\n",
        "plt.yscale(\"log\") # usa escala log para y (precisa ser feito a CADA novo gráfico)\n",
        "plt.xscale(\"log\") # idem, para x\n",
        "plt.plot(x,y,'r-')\n",
        "plt.show()\n"
      ],
      "execution_count": 45,
      "outputs": [
        {
          "output_type": "display_data",
          "data": {
            "text/plain": [
              "<Figure size 640x480 with 1 Axes>"
            ],
            "image/png": "[encoded data removed]"
          },
          "metadata": {}
        }
      ]
    },
    {
      "cell_type": "markdown",
      "metadata": {
        "id": "weIMazWDdIdT"
      },
      "source": [
        "Lembre-se das **duas técnicas** simples que vimos: ao usar as escalas logarítmicas, conseguimos facilmente identificar o comportamento exponencial ou polinomial. A partir daí, é possível determinar o **expoente** da função, ou o **grau** do polinômio:"
      ]
    },
    {
      "cell_type": "code",
      "metadata": {
        "colab": {
          "base_uri": "https://localhost:8080/"
        },
        "outputId": "17fa11c0-f21f-4a79-82ca-ffbe524c5af5",
        "id": "uKgWZ_G3dIdX"
      },
      "source": [
        "# Se for polinomial:\n",
        "\n",
        "# Calcula o valor de dois pontos da função\n",
        "a = 2\n",
        "b = 100\n",
        "fa = f4(a)\n",
        "fb = f4(b)\n",
        "expoente = (math.log(fb)-math.log(fa))/(math.log(b)-math.log(a))\n",
        "print(\"Expoente aproximado da função polinomial:\", expoente)"
      ],
      "execution_count": 46,
      "outputs": [
        {
          "output_type": "stream",
          "name": "stdout",
          "text": [
            "Expoente aproximado da função polinomial: 2.2862701215153405\n"
          ]
        }
      ]
    },
    {
      "cell_type": "markdown",
      "metadata": {
        "id": "RfsDwNyedIdY"
      },
      "source": [
        "$expoente \\approx \\frac{\\log(f(b)) - \\log(f(a))}{\\log(b)-\\log(a)}$"
      ]
    },
    {
      "cell_type": "markdown",
      "metadata": {
        "id": "fXYDSQK9sVBF"
      },
      "source": [
        "## Algoritmo 5"
      ]
    },
    {
      "cell_type": "code",
      "metadata": {
        "id": "_n2GbiH6shr5"
      },
      "source": [
        "def f5(n,d):\n",
        "  if n < 0:\n",
        "    return d\n",
        "  return f5(n-1,1-d) + f5(n-2,d)\n",
        "\n",
        "# Chame com f5(n,1)"
      ],
      "execution_count": 18,
      "outputs": []
    },
    {
      "cell_type": "code",
      "source": [
        "# Programa principal\n",
        "for n in range(2,20):\n",
        "  print(n, f5(n, 1))"
      ],
      "metadata": {
        "id": "0A2AFuJcgJXq",
        "outputId": "17abbab8-13e1-4f53-f74c-18a9fcf24e96",
        "colab": {
          "base_uri": "https://localhost:8080/"
        }
      },
      "execution_count": 57,
      "outputs": [
        {
          "output_type": "stream",
          "name": "stdout",
          "text": [
            "2 2\n",
            "3 5\n",
            "4 5\n",
            "5 13\n",
            "6 13\n",
            "7 34\n",
            "8 34\n",
            "9 89\n",
            "10 89\n",
            "11 233\n",
            "12 233\n",
            "13 610\n",
            "14 610\n",
            "15 1597\n",
            "16 1597\n",
            "17 4181\n",
            "18 4181\n",
            "19 10946\n"
          ]
        }
      ]
    },
    {
      "cell_type": "markdown",
      "metadata": {
        "id": "VajCwVCKdN12"
      },
      "source": [
        "Para fazer o gráfico, siga o seguinte modelo (x e y são **listas**, estrutura de dados nativa do Python)."
      ]
    },
    {
      "cell_type": "code",
      "metadata": {
        "colab": {
          "base_uri": "https://localhost:8080/",
          "height": 449
        },
        "outputId": "b8664129-ad15-4e83-a108-bf5f6f76f819",
        "id": "vI89MXd2dN16"
      },
      "source": [
        "x = [] # lista vazia: coordenadas x\n",
        "y = [] # lista vazia: coordenadas y\n",
        "for n in range(2,30):\n",
        "  x.append(n)     # acrescenta o valor atual de n no final da lista x\n",
        "  y.append(f5(n, 1)) # acrescenta o valor da função no fina da lista y\n",
        "\n",
        "# Desenha o gráfico com linhas vermelhas\n",
        "# (para usar escala logarítmica, descomente uma ou ambas linhas abaixo)\n",
        "plt.yscale(\"log\") # usa escala log para y (precisa ser feito a CADA novo gráfico)\n",
        "#plt.xscale(\"log\") # idem, para x\n",
        "plt.plot(x,y,'r-')\n",
        "plt.show()\n"
      ],
      "execution_count": 54,
      "outputs": [
        {
          "output_type": "display_data",
          "data": {
            "text/plain": [
              "<Figure size 640x480 with 1 Axes>"
            ],
            "image/png": "[encoded data removed]"
          },
          "metadata": {}
        }
      ]
    },
    {
      "cell_type": "markdown",
      "metadata": {
        "id": "APvXP-86dN17"
      },
      "source": [
        "Lembre-se das **duas técnicas** simples que vimos: ao usar as escalas logarítmicas, conseguimos facilmente identificar o comportamento exponencial ou polinomial. A partir daí, é possível determinar o **expoente** da função, ou o **grau** do polinômio:"
      ]
    },
    {
      "cell_type": "code",
      "metadata": {
        "colab": {
          "base_uri": "https://localhost:8080/"
        },
        "outputId": "f22146e7-9e00-4e26-a83a-cf97bbb61b16",
        "id": "Ad2r9J4EdN18"
      },
      "source": [
        "# Se for exponencial:\n",
        "\n",
        "# Calcula o valor de dois pontos da função\n",
        "a = 2\n",
        "b = 30\n",
        "fa = f5(a, 1)\n",
        "fb = f5(b, 1)\n",
        "print(fa,fb)\n",
        "# Inclinação da reta (r) será aprox. (log(fb)-log(fa))/(b-a)\n",
        "r = (math.log(fb) - math.log(fa))/ (b-a)\n",
        "# E o expoente é exp(r)\n",
        "base = math.exp(r)\n",
        "print(\"Base aproximada da função exponencial:\", base)"
      ],
      "execution_count": 56,
      "outputs": [
        {
          "output_type": "stream",
          "name": "stdout",
          "text": [
            "2 1346269\n",
            "Base aproximada da função exponencial: 1.614903198254369\n"
          ]
        }
      ]
    },
    {
      "cell_type": "markdown",
      "metadata": {
        "id": "z2qGtx85dN1-"
      },
      "source": [
        "$r \\approx \\frac{\\log(f(b))-\\log(f(a))}{b-a}, base = e^{r}$"
      ]
    },
    {
      "cell_type": "markdown",
      "metadata": {
        "id": "vTGhy8tos50e"
      },
      "source": [
        "## Algoritmo 6"
      ]
    },
    {
      "cell_type": "code",
      "metadata": {
        "id": "GR1aP6ncs7pY"
      },
      "source": [
        "def f6(n,d):\n",
        "  global op\n",
        "  op += 1\n",
        "  if n == 0:\n",
        "    return d\n",
        "  return 3 * f6(n-1,1-d)\n",
        "\n",
        "# Chame com f6(n,1), o total de operações volta na variável\n",
        "# op (lembre-se de ZERAR a varíavel antes de cada chamada)"
      ],
      "execution_count": 19,
      "outputs": []
    },
    {
      "cell_type": "code",
      "source": [
        "# Programa principal\n",
        "for n in range(2,100):\n",
        "  op = 0\n",
        "  f6(n, 1)\n",
        "  print(n, op)"
      ],
      "metadata": {
        "id": "PTvBglZig7AL",
        "outputId": "fff35200-4118-42c6-e54f-fdd1fc2a2eb6",
        "colab": {
          "base_uri": "https://localhost:8080/"
        }
      },
      "execution_count": 72,
      "outputs": [
        {
          "output_type": "stream",
          "name": "stdout",
          "text": [
            "2 3\n",
            "3 4\n",
            "4 5\n",
            "5 6\n",
            "6 7\n",
            "7 8\n",
            "8 9\n",
            "9 10\n",
            "10 11\n",
            "11 12\n",
            "12 13\n",
            "13 14\n",
            "14 15\n",
            "15 16\n",
            "16 17\n",
            "17 18\n",
            "18 19\n",
            "19 20\n",
            "20 21\n",
            "21 22\n",
            "22 23\n",
            "23 24\n",
            "24 25\n",
            "25 26\n",
            "26 27\n",
            "27 28\n",
            "28 29\n",
            "29 30\n",
            "30 31\n",
            "31 32\n",
            "32 33\n",
            "33 34\n",
            "34 35\n",
            "35 36\n",
            "36 37\n",
            "37 38\n",
            "38 39\n",
            "39 40\n",
            "40 41\n",
            "41 42\n",
            "42 43\n",
            "43 44\n",
            "44 45\n",
            "45 46\n",
            "46 47\n",
            "47 48\n",
            "48 49\n",
            "49 50\n",
            "50 51\n",
            "51 52\n",
            "52 53\n",
            "53 54\n",
            "54 55\n",
            "55 56\n",
            "56 57\n",
            "57 58\n",
            "58 59\n",
            "59 60\n",
            "60 61\n",
            "61 62\n",
            "62 63\n",
            "63 64\n",
            "64 65\n",
            "65 66\n",
            "66 67\n",
            "67 68\n",
            "68 69\n",
            "69 70\n",
            "70 71\n",
            "71 72\n",
            "72 73\n",
            "73 74\n",
            "74 75\n",
            "75 76\n",
            "76 77\n",
            "77 78\n",
            "78 79\n",
            "79 80\n",
            "80 81\n",
            "81 82\n",
            "82 83\n",
            "83 84\n",
            "84 85\n",
            "85 86\n",
            "86 87\n",
            "87 88\n",
            "88 89\n",
            "89 90\n",
            "90 91\n",
            "91 92\n",
            "92 93\n",
            "93 94\n",
            "94 95\n",
            "95 96\n",
            "96 97\n",
            "97 98\n",
            "98 99\n",
            "99 100\n"
          ]
        }
      ]
    },
    {
      "cell_type": "markdown",
      "metadata": {
        "id": "7EVtnSc2dPps"
      },
      "source": [
        "Para fazer o gráfico, siga o seguinte modelo (x e y são **listas**, estrutura de dados nativa do Python)."
      ]
    },
    {
      "cell_type": "code",
      "metadata": {
        "colab": {
          "base_uri": "https://localhost:8080/",
          "height": 449
        },
        "outputId": "6a19e7d9-7209-4162-fb60-cdf7af027f43",
        "id": "dm6oKnIqdPpu"
      },
      "source": [
        "x = [] # lista vazia: coordenadas x\n",
        "y = [] # lista vazia: coordenadas y\n",
        "for n in range(2,100):\n",
        "  op = 0\n",
        "  f6(n, 1)\n",
        "  x.append(n)     # acrescenta o valor atual de n no final da lista x\n",
        "  y.append(op) # acrescenta o valor da função no fina da lista y\n",
        "\n",
        "# Desenha o gráfico com linhas vermelhas\n",
        "# (para usar escala logarítmica, descomente uma ou ambas linhas abaixo)\n",
        "#plt.yscale(\"log\") # usa escala log para y (precisa ser feito a CADA novo gráfico)\n",
        "#plt.xscale(\"log\") # idem, para x\n",
        "plt.plot(x,y,'r-')\n",
        "plt.show()\n"
      ],
      "execution_count": 71,
      "outputs": [
        {
          "output_type": "display_data",
          "data": {
            "text/plain": [
              "<Figure size 640x480 with 1 Axes>"
            ],
            "image/png": "[encoded data removed]"
          },
          "metadata": {}
        }
      ]
    },
    {
      "cell_type": "markdown",
      "metadata": {
        "id": "SscarT2MdPpw"
      },
      "source": [
        "Lembre-se das **duas técnicas** simples que vimos: ao usar as escalas logarítmicas, conseguimos facilmente identificar o comportamento exponencial ou polinomial. A partir daí, é possível determinar o **expoente** da função, ou o **grau** do polinômio:"
      ]
    },
    {
      "cell_type": "markdown",
      "metadata": {
        "id": "29rb5m1xwpMp"
      },
      "source": [
        "## Algoritmo 7"
      ]
    },
    {
      "cell_type": "code",
      "metadata": {
        "id": "x1eGsAi8wrFV"
      },
      "source": [
        "def f7(n):\n",
        "  res = 0\n",
        "  s = int(math.sqrt(n))\n",
        "  for i in range(1,n+1):      # 1 a n\n",
        "    for j in range(1,s+1):    # 1 a sqrt(n)\n",
        "      for k in range(1,i+1):  # 1 a i\n",
        "        res += 1\n",
        "  return res"
      ],
      "execution_count": 20,
      "outputs": []
    },
    {
      "cell_type": "code",
      "source": [
        "# Programa principal\n",
        "for n in range(2,100):\n",
        "  print(n, f7(n))"
      ],
      "metadata": {
        "id": "h_bMaEikifYt",
        "outputId": "c259d30b-f15c-49c1-8709-371751783470",
        "colab": {
          "base_uri": "https://localhost:8080/"
        }
      },
      "execution_count": 73,
      "outputs": [
        {
          "output_type": "stream",
          "name": "stdout",
          "text": [
            "2 3\n",
            "3 6\n",
            "4 20\n",
            "5 30\n",
            "6 42\n",
            "7 56\n",
            "8 72\n",
            "9 135\n",
            "10 165\n",
            "11 198\n",
            "12 234\n",
            "13 273\n",
            "14 315\n",
            "15 360\n",
            "16 544\n",
            "17 612\n",
            "18 684\n",
            "19 760\n",
            "20 840\n",
            "21 924\n",
            "22 1012\n",
            "23 1104\n",
            "24 1200\n",
            "25 1625\n",
            "26 1755\n",
            "27 1890\n",
            "28 2030\n",
            "29 2175\n",
            "30 2325\n",
            "31 2480\n",
            "32 2640\n",
            "33 2805\n",
            "34 2975\n",
            "35 3150\n",
            "36 3996\n",
            "37 4218\n",
            "38 4446\n",
            "39 4680\n",
            "40 4920\n",
            "41 5166\n",
            "42 5418\n",
            "43 5676\n",
            "44 5940\n",
            "45 6210\n",
            "46 6486\n",
            "47 6768\n",
            "48 7056\n",
            "49 8575\n",
            "50 8925\n",
            "51 9282\n",
            "52 9646\n",
            "53 10017\n",
            "54 10395\n",
            "55 10780\n",
            "56 11172\n",
            "57 11571\n",
            "58 11977\n",
            "59 12390\n",
            "60 12810\n",
            "61 13237\n",
            "62 13671\n",
            "63 14112\n",
            "64 16640\n",
            "65 17160\n",
            "66 17688\n",
            "67 18224\n",
            "68 18768\n",
            "69 19320\n",
            "70 19880\n",
            "71 20448\n",
            "72 21024\n",
            "73 21608\n",
            "74 22200\n",
            "75 22800\n",
            "76 23408\n",
            "77 24024\n",
            "78 24648\n",
            "79 25280\n",
            "80 25920\n",
            "81 29889\n",
            "82 30627\n",
            "83 31374\n",
            "84 32130\n",
            "85 32895\n",
            "86 33669\n",
            "87 34452\n",
            "88 35244\n",
            "89 36045\n",
            "90 36855\n",
            "91 37674\n",
            "92 38502\n",
            "93 39339\n",
            "94 40185\n",
            "95 41040\n",
            "96 41904\n",
            "97 42777\n",
            "98 43659\n",
            "99 44550\n"
          ]
        }
      ]
    },
    {
      "cell_type": "markdown",
      "metadata": {
        "id": "TTo7LcFzdTIN"
      },
      "source": [
        "Para fazer o gráfico, siga o seguinte modelo (x e y são **listas**, estrutura de dados nativa do Python)."
      ]
    },
    {
      "cell_type": "code",
      "metadata": {
        "colab": {
          "base_uri": "https://localhost:8080/",
          "height": 452
        },
        "outputId": "910735ab-b7aa-452b-ed01-ee5a925daa9c",
        "id": "SkDlyvzOdTIP"
      },
      "source": [
        "x = [] # lista vazia: coordenadas x\n",
        "y = [] # lista vazia: coordenadas y\n",
        "for n in range(2,100):\n",
        "  x.append(n)     # acrescenta o valor atual de n no final da lista x\n",
        "  y.append(f7(n)) # acrescenta o valor da função no fina da lista y\n",
        "\n",
        "# Desenha o gráfico com linhas vermelhas\n",
        "# (para usar escala logarítmica, descomente uma ou ambas linhas abaixo)\n",
        "plt.yscale(\"log\") # usa escala log para y (precisa ser feito a CADA novo gráfico)\n",
        "plt.xscale(\"log\") # idem, para x\n",
        "plt.plot(x,y,'r-')\n",
        "plt.show()\n"
      ],
      "execution_count": 76,
      "outputs": [
        {
          "output_type": "display_data",
          "data": {
            "text/plain": [
              "<Figure size 640x480 with 1 Axes>"
            ],
            "image/png": "[encoded data removed]"
          },
          "metadata": {}
        }
      ]
    },
    {
      "cell_type": "markdown",
      "metadata": {
        "id": "bAD05F_7dTIQ"
      },
      "source": [
        "Lembre-se das **duas técnicas** simples que vimos: ao usar as escalas logarítmicas, conseguimos facilmente identificar o comportamento exponencial ou polinomial. A partir daí, é possível determinar o **expoente** da função, ou o **grau** do polinômio:"
      ]
    },
    {
      "cell_type": "code",
      "metadata": {
        "colab": {
          "base_uri": "https://localhost:8080/"
        },
        "outputId": "8d969070-008a-4f68-fb88-7cd87d25c5dc",
        "id": "IFH-0khKdTIR"
      },
      "source": [
        "# Se for polinomial:\n",
        "\n",
        "# Calcula o valor de dois pontos da função\n",
        "a = 2\n",
        "b = 100\n",
        "fa = f7(a)\n",
        "fb = f7(b)\n",
        "expoente = (math.log(fb)-math.log(fa))/(math.log(b)-math.log(a))\n",
        "print(\"Expoente aproximado da função polinomial:\", expoente)"
      ],
      "execution_count": 77,
      "outputs": [
        {
          "output_type": "stream",
          "name": "stdout",
          "text": [
            "Expoente aproximado da função polinomial: 2.487489545202798\n"
          ]
        }
      ]
    },
    {
      "cell_type": "markdown",
      "metadata": {
        "id": "tivSP7hjdTIS"
      },
      "source": [
        "$expoente \\approx \\frac{\\log(f(b)) - \\log(f(a))}{\\log(b)-\\log(a)}$"
      ]
    },
    {
      "cell_type": "markdown",
      "metadata": {
        "id": "1S04ErDy_el6"
      },
      "source": [
        "## Algoritmo 8"
      ]
    },
    {
      "cell_type": "code",
      "metadata": {
        "id": "jgFDktv__lvn"
      },
      "source": [
        "def f8(n):\n",
        "  res = 0\n",
        "  for i in range(1,n+1):      # de 1 a n\n",
        "    for j in range(i, 2*i+1): # de i a 2*i\n",
        "      for k in range(i,j+1):  # de i a j\n",
        "        res += 1\n",
        "  return res"
      ],
      "execution_count": 21,
      "outputs": []
    },
    {
      "cell_type": "code",
      "source": [
        "# Programa principal\n",
        "for n in range(2,100):\n",
        "  print(n, f8(n))"
      ],
      "metadata": {
        "id": "-YypWjwai3iW",
        "outputId": "ec8b8679-0ae5-413d-9f66-7889e79f6093",
        "colab": {
          "base_uri": "https://localhost:8080/"
        }
      },
      "execution_count": 83,
      "outputs": [
        {
          "output_type": "stream",
          "name": "stdout",
          "text": [
            "2 9\n",
            "3 19\n",
            "4 34\n",
            "5 55\n",
            "6 83\n",
            "7 119\n",
            "8 164\n",
            "9 219\n",
            "10 285\n",
            "11 363\n",
            "12 454\n",
            "13 559\n",
            "14 679\n",
            "15 815\n",
            "16 968\n",
            "17 1139\n",
            "18 1329\n",
            "19 1539\n",
            "20 1770\n",
            "21 2023\n",
            "22 2299\n",
            "23 2599\n",
            "24 2924\n",
            "25 3275\n",
            "26 3653\n",
            "27 4059\n",
            "28 4494\n",
            "29 4959\n",
            "30 5455\n",
            "31 5983\n",
            "32 6544\n",
            "33 7139\n",
            "34 7769\n",
            "35 8435\n",
            "36 9138\n",
            "37 9879\n",
            "38 10659\n",
            "39 11479\n",
            "40 12340\n",
            "41 13243\n",
            "42 14189\n",
            "43 15179\n",
            "44 16214\n",
            "45 17295\n",
            "46 18423\n",
            "47 19599\n",
            "48 20824\n",
            "49 22099\n",
            "50 23425\n",
            "51 24803\n",
            "52 26234\n",
            "53 27719\n",
            "54 29259\n",
            "55 30855\n",
            "56 32508\n",
            "57 34219\n",
            "58 35989\n",
            "59 37819\n",
            "60 39710\n",
            "61 41663\n",
            "62 43679\n",
            "63 45759\n",
            "64 47904\n",
            "65 50115\n",
            "66 52393\n",
            "67 54739\n",
            "68 57154\n",
            "69 59639\n",
            "70 62195\n",
            "71 64823\n",
            "72 67524\n",
            "73 70299\n",
            "74 73149\n",
            "75 76075\n",
            "76 79078\n",
            "77 82159\n",
            "78 85319\n",
            "79 88559\n",
            "80 91880\n",
            "81 95283\n",
            "82 98769\n",
            "83 102339\n",
            "84 105994\n",
            "85 109735\n",
            "86 113563\n",
            "87 117479\n",
            "88 121484\n",
            "89 125579\n",
            "90 129765\n",
            "91 134043\n",
            "92 138414\n",
            "93 142879\n",
            "94 147439\n",
            "95 152095\n",
            "96 156848\n",
            "97 161699\n",
            "98 166649\n",
            "99 171699\n"
          ]
        }
      ]
    },
    {
      "cell_type": "markdown",
      "metadata": {
        "id": "tT2JeCqQdVT2"
      },
      "source": [
        "Para fazer o gráfico, siga o seguinte modelo (x e y são **listas**, estrutura de dados nativa do Python)."
      ]
    },
    {
      "cell_type": "code",
      "metadata": {
        "colab": {
          "base_uri": "https://localhost:8080/",
          "height": 452
        },
        "outputId": "8e07f680-da80-4ab1-b240-3636bed8b29c",
        "id": "vbE0ldpidVT4"
      },
      "source": [
        "x = [] # lista vazia: coordenadas x\n",
        "y = [] # lista vazia: coordenadas y\n",
        "for n in range(2,100):\n",
        "  x.append(n)     # acrescenta o valor atual de n no final da lista x\n",
        "  y.append(f8(n)) # acrescenta o valor da função no fina da lista y\n",
        "\n",
        "# Desenha o gráfico com linhas vermelhas\n",
        "# (para usar escala logarítmica, descomente uma ou ambas linhas abaixo)\n",
        "plt.yscale(\"log\") # usa escala log para y (precisa ser feito a CADA novo gráfico)\n",
        "plt.xscale(\"log\") # idem, para x\n",
        "plt.plot(x,y,'r-')\n",
        "plt.show()\n"
      ],
      "execution_count": 81,
      "outputs": [
        {
          "output_type": "display_data",
          "data": {
            "text/plain": [
              "<Figure size 640x480 with 1 Axes>"
            ],
            "image/png": "[encoded data removed]"
          },
          "metadata": {}
        }
      ]
    },
    {
      "cell_type": "markdown",
      "metadata": {
        "id": "EjoQ-qhEdVT4"
      },
      "source": [
        "Lembre-se das **duas técnicas** simples que vimos: ao usar as escalas logarítmicas, conseguimos facilmente identificar o comportamento exponencial ou polinomial. A partir daí, é possível determinar o **expoente** da função, ou o **grau** do polinômio:"
      ]
    },
    {
      "cell_type": "code",
      "metadata": {
        "colab": {
          "base_uri": "https://localhost:8080/"
        },
        "outputId": "f504f320-991f-4ef8-c907-c4df00e37910",
        "id": "VT1Wq6AjdVT7"
      },
      "source": [
        "# Se for polinomial:\n",
        "\n",
        "# Calcula o valor de dois pontos da função\n",
        "a = 2\n",
        "b = 100\n",
        "fa = f8(a)\n",
        "fb = f8(b)\n",
        "expoente = (math.log(fb)-math.log(fa))/(math.log(b)-math.log(a))\n",
        "print(\"Expoente aproximado da função polinomial:\", expoente)"
      ],
      "execution_count": 82,
      "outputs": [
        {
          "output_type": "stream",
          "name": "stdout",
          "text": [
            "Expoente aproximado da função polinomial: 2.5270384666910886\n"
          ]
        }
      ]
    },
    {
      "cell_type": "markdown",
      "metadata": {
        "id": "9nyFCJvkdVT8"
      },
      "source": [
        "$expoente \\approx \\frac{\\log(f(b)) - \\log(f(a))}{\\log(b)-\\log(a)}$"
      ]
    },
    {
      "cell_type": "markdown",
      "metadata": {
        "id": "446VgLJ6_piX"
      },
      "source": [
        "## Algoritmo 9"
      ]
    },
    {
      "cell_type": "code",
      "metadata": {
        "id": "uPH-fCL0_rm2"
      },
      "source": [
        "def f9(n):\n",
        "  res = 0\n",
        "  for i in range(1,n+1):     # de 1 a n.\n",
        "    for j in range(i,i+4):   # de i a i+3\n",
        "      for k in range(i,j+1): # de i a j\n",
        "        res += 1\n",
        "  return res"
      ],
      "execution_count": 22,
      "outputs": []
    },
    {
      "cell_type": "code",
      "source": [
        "# Programa principal\n",
        "for n in range(2,100):\n",
        "  print(n, f9(n))"
      ],
      "metadata": {
        "id": "NmeRLqwIjGpP",
        "outputId": "7d4bb10a-6c9d-4746-818a-dae6d01f53d7",
        "colab": {
          "base_uri": "https://localhost:8080/"
        }
      },
      "execution_count": 84,
      "outputs": [
        {
          "output_type": "stream",
          "name": "stdout",
          "text": [
            "2 20\n",
            "3 30\n",
            "4 40\n",
            "5 50\n",
            "6 60\n",
            "7 70\n",
            "8 80\n",
            "9 90\n",
            "10 100\n",
            "11 110\n",
            "12 120\n",
            "13 130\n",
            "14 140\n",
            "15 150\n",
            "16 160\n",
            "17 170\n",
            "18 180\n",
            "19 190\n",
            "20 200\n",
            "21 210\n",
            "22 220\n",
            "23 230\n",
            "24 240\n",
            "25 250\n",
            "26 260\n",
            "27 270\n",
            "28 280\n",
            "29 290\n",
            "30 300\n",
            "31 310\n",
            "32 320\n",
            "33 330\n",
            "34 340\n",
            "35 350\n",
            "36 360\n",
            "37 370\n",
            "38 380\n",
            "39 390\n",
            "40 400\n",
            "41 410\n",
            "42 420\n",
            "43 430\n",
            "44 440\n",
            "45 450\n",
            "46 460\n",
            "47 470\n",
            "48 480\n",
            "49 490\n",
            "50 500\n",
            "51 510\n",
            "52 520\n",
            "53 530\n",
            "54 540\n",
            "55 550\n",
            "56 560\n",
            "57 570\n",
            "58 580\n",
            "59 590\n",
            "60 600\n",
            "61 610\n",
            "62 620\n",
            "63 630\n",
            "64 640\n",
            "65 650\n",
            "66 660\n",
            "67 670\n",
            "68 680\n",
            "69 690\n",
            "70 700\n",
            "71 710\n",
            "72 720\n",
            "73 730\n",
            "74 740\n",
            "75 750\n",
            "76 760\n",
            "77 770\n",
            "78 780\n",
            "79 790\n",
            "80 800\n",
            "81 810\n",
            "82 820\n",
            "83 830\n",
            "84 840\n",
            "85 850\n",
            "86 860\n",
            "87 870\n",
            "88 880\n",
            "89 890\n",
            "90 900\n",
            "91 910\n",
            "92 920\n",
            "93 930\n",
            "94 940\n",
            "95 950\n",
            "96 960\n",
            "97 970\n",
            "98 980\n",
            "99 990\n"
          ]
        }
      ]
    },
    {
      "cell_type": "markdown",
      "metadata": {
        "id": "9iGphV1UdX1W"
      },
      "source": [
        "Para fazer o gráfico, siga o seguinte modelo (x e y são **listas**, estrutura de dados nativa do Python)."
      ]
    },
    {
      "cell_type": "code",
      "metadata": {
        "colab": {
          "base_uri": "https://localhost:8080/",
          "height": 449
        },
        "outputId": "2d8790d6-9bb5-4c34-eda5-584be13d7f7a",
        "id": "QVrmCtUMdX1Z"
      },
      "source": [
        "x = [] # lista vazia: coordenadas x\n",
        "y = [] # lista vazia: coordenadas y\n",
        "for n in range(2,100):\n",
        "  x.append(n)     # acrescenta o valor atual de n no final da lista x\n",
        "  y.append(f9(n)) # acrescenta o valor da função no fina da lista y\n",
        "\n",
        "# Desenha o gráfico com linhas vermelhas\n",
        "# (para usar escala logarítmica, descomente uma ou ambas linhas abaixo)\n",
        "#plt.yscale(\"log\") # usa escala log para y (precisa ser feito a CADA novo gráfico)\n",
        "#plt.xscale(\"log\") # idem, para x\n",
        "plt.plot(x,y,'r-')\n",
        "plt.show()\n"
      ],
      "execution_count": 85,
      "outputs": [
        {
          "output_type": "display_data",
          "data": {
            "text/plain": [
              "<Figure size 640x480 with 1 Axes>"
            ],
            "image/png": "[encoded data removed]"
          },
          "metadata": {}
        }
      ]
    },
    {
      "cell_type": "markdown",
      "metadata": {
        "id": "f_Mn4miidX1b"
      },
      "source": [
        "Lembre-se das **duas técnicas** simples que vimos: ao usar as escalas logarítmicas, conseguimos facilmente identificar o comportamento exponencial ou polinomial. A partir daí, é possível determinar o **expoente** da função, ou o **grau** do polinômio:"
      ]
    }
  ]
}